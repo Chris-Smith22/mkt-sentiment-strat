{
 "cells": [
  {
   "cell_type": "markdown",
   "metadata": {},
   "source": [
    "# "
   ]
  },
  {
   "cell_type": "markdown",
   "metadata": {},
   "source": [
    "# Connection tests - Reddit API\n",
    "This Jupyter Notebook was created to test connection to the Reddit API through app credentials obtained by following the steps in process.md. \n",
    "\n",
    "It also tests basic functionality for things like: \n",
    "- x\n",
    "- y\n",
    "- z"
   ]
  },
  {
   "cell_type": "markdown",
   "metadata": {},
   "source": [
    "**Imports**"
   ]
  },
  {
   "cell_type": "code",
   "execution_count": 4,
   "metadata": {},
   "outputs": [],
   "source": [
    "import nltk\n",
    "from nltk.sentiment.vader import SentimentIntensityAnalyzer as SIA\n",
    "import praw\n",
    "import matplotlib.pyplot as plt\n",
    "import math\n",
    "import datetime as dt\n",
    "import pandas as pd\n",
    "import numpy as np"
   ]
  },
  {
   "cell_type": "markdown",
   "metadata": {},
   "source": [
    "**API Access**"
   ]
  },
  {
   "cell_type": "code",
   "execution_count": 5,
   "metadata": {},
   "outputs": [
    {
     "name": "stdout",
     "output_type": "stream",
     "text": [
      "True\n"
     ]
    }
   ],
   "source": [
    "CLIENT_ID = \"\"\n",
    "CLIENT_SECRET = \"\"\n",
    "USER_AGENT = \"\"\n",
    "\n",
    "# Load in passwords from hidden dev_settings.py file\n",
    "try: \n",
    "    from dev_settings import * \n",
    "except ImportError: \n",
    "    print(\"Error: Password file could not be found.\")\n",
    "\n",
    "# Init read-only Reddit instance\n",
    "reddit = praw.Reddit(client_id=CLIENT_ID, \n",
    "                     client_secret = CLIENT_SECRET, \n",
    "                     user_agent = USER_AGENT)\n",
    "\n",
    "print(reddit.read_only)"
   ]
  },
  {
   "cell_type": "markdown",
   "metadata": {},
   "source": [
    "**Ex: Basic Functionality**\n",
    "Here, we will obtain basic data and 5 \"hot\" submissions from r/wallstreetbets. "
   ]
  },
  {
   "cell_type": "code",
   "execution_count": 6,
   "metadata": {},
   "outputs": [
    {
     "name": "stdout",
     "output_type": "stream",
     "text": [
      "Subreddit name: wallstreetbets\n",
      "Subreddit title: wallstreetbets\n",
      "Subreddit description: The rules and submission guidelines are maintained on new Reddit so be sure to check them and make sure you're up to date.\n",
      "\n",
      "* Read the [rules](https://www.reddit.com/r/wallstreetbets/about/rules)\n",
      "\n",
      "* Read the [comment and submission guide](https://www.reddit.com/r/wallstreetbets/wiki/contentguide)\n",
      "\n",
      "* Read the [FAQ](https://www.reddit.com/r/wallstreetbets/wiki/faq) if you're new to both wallstreetbets and trading.\n",
      "\n",
      "---\n",
      "**Join the discord**\n",
      "\n",
      "[WSB Discord](https://discord.gg/wsbverse)\n",
      "\n",
      "**filter by flairs**\n",
      "\n",
      "^Navigate ^WSB |^We ^recommend ^best ^daily ^DD\n",
      ":--|:--     \n",
      "**DD** | [All](https://ns.reddit.com/r/wallstreetbets/search?sort=new&restrict_sr=on&q=flair%3ADD) / [**Best Daily**](https://ns.reddit.com/r/wallstreetbets/search?sort=top&q=flair%3ADD&restrict_sr=on&t=day) / [Best Weekly](https://ns.reddit.com/r/wallstreetbets/search?sort=top&q=flair%3ADD&restrict_sr=on&t=week)\n",
      "**Discussion** | [All](https://ns.reddit.com/r/wallstreetbets/search?sort=new&restrict_sr=on&q=flair%3ADiscussion) / [**Best Daily**](https://ns.reddit.com/r/wallstreetbets/search?sort=top&q=flair%3ADiscussion&restrict_sr=on&t=day) / [Best Weekly](https://ns.reddit.com/r/wallstreetbets/search?sort=top&q=flair%3ADiscussion&restrict_sr=on&t=week)\n",
      "**YOLO** | [All](https://ns.reddit.com/r/wallstreetbets/search?sort=new&restrict_sr=on&q=flair%3AYOLO) / [**Best Daily**](https://ns.reddit.com/r/wallstreetbets/search?sort=top&q=flair%3AYOLO&restrict_sr=on&t=day) / [Best Weekly](https://ns.reddit.com/r/wallstreetbets/search?sort=top&q=flair%3AYOLO&restrict_sr=on&t=week)\n",
      "**Gain** | [All](https://ns.reddit.com/r/wallstreetbets/search?sort=new&restrict_sr=on&q=flair%3AGain) / [**Best Daily**](https://ns.reddit.com/r/wallstreetbets/search?sort=top&q=flair%3AGain&restrict_sr=on&t=day) / [Best Weekly](https://ns.reddit.com/r/wallstreetbets/search?sort=top&q=flair%3AGain&restrict_sr=on&t=week)\n",
      "**Loss** | [All](https://ns.reddit.com/r/wallstreetbets/search?sort=new&restrict_sr=on&q=flair%3ALoss) / [**Best Daily**](https://ns.reddit.com/r/wallstreetbets/search?sort=top&q=flair%3ALoss&restrict_sr=on&t=day) / [Best Weekly](https://ns.reddit.com/r/wallstreetbets/search?sort=top&q=flair%3ALoss&restrict_sr=on&t=week)\n",
      "**Shitpost** | [All](https://ns.reddit.com/r/wallstreetbets/search?sort=new&restrict_sr=on&q=flair%3AShitpost) / [**Best Daily**](https://ns.reddit.com/r/wallstreetbets/search?sort=top&q=flair%3AShitpost&restrict_sr=on&t=day) / [Best Weekly](https://ns.reddit.com/r/wallstreetbets/search?sort=top&q=flair%3AShitpost&restrict_sr=on&t=week)\n",
      "**Meme** | [All](https://ns.reddit.com/r/wallstreetbets/search?sort=new&restrict_sr=on&q=flair%3AMeme) / [**Best Daily**](https://ns.reddit.com/r/wallstreetbets/search?sort=top&q=flair%3AMeme&restrict_sr=on&t=day) / [Best Weekly](https://ns.reddit.com/r/wallstreetbets/search?sort=top&q=flair%3AMeme&restrict_sr=on&t=week)\n",
      "\n",
      "\n",
      "[Earnings Thread](https://reddit.com/r/wallstreetbets/search?sort=new&restrict_sr=on&q=flair%3A\"Earnings%20Thread\") - [Daily Thread](https://reddit.com/r/wallstreetbets/search?sort=new&restrict_sr=on&q=flair%3A\"Daily%20Discussion\")\n",
      "\n",
      "---\n",
      "Hot posts: \n",
      "What Are Your Moves Tomorrow, April 4, 2024\n",
      "Most Anticipated Earnings Releases for the week beginning April 1st, 2024\n",
      "Cannabis - not too late to get high bros\n",
      "Official TSM statement on earthquake\n",
      "10K -> $126K Gain 🚀🚀🚀\n"
     ]
    }
   ],
   "source": [
    "wsb = reddit.subreddit(\"wallstreetbets\")\n",
    "\n",
    "print(\"Subreddit name:\", wsb.display_name)\n",
    "print(\"Subreddit title:\", wsb.title)\n",
    "print(\"Subreddit description:\", wsb.description)\n",
    "print(\"Hot posts: \")\n",
    "\n",
    "for submission in wsb.hot(limit=5): \n",
    "    print(submission.title)"
   ]
  },
  {
   "cell_type": "markdown",
   "metadata": {},
   "source": [
    "*Note: Using a read-only reddit instance only lets us access public information from Reddit. However, this should be all we need for this particular project*"
   ]
  },
  {
   "cell_type": "markdown",
   "metadata": {},
   "source": []
  }
 ],
 "metadata": {
  "kernelspec": {
   "display_name": "Python 3",
   "language": "python",
   "name": "python3"
  },
  "language_info": {
   "codemirror_mode": {
    "name": "ipython",
    "version": 3
   },
   "file_extension": ".py",
   "mimetype": "text/x-python",
   "name": "python",
   "nbconvert_exporter": "python",
   "pygments_lexer": "ipython3",
   "version": "3.10.11"
  }
 },
 "nbformat": 4,
 "nbformat_minor": 2
}
