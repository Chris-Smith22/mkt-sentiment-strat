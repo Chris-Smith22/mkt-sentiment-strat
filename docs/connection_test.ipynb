{
 "cells": [
  {
   "cell_type": "markdown",
   "metadata": {},
   "source": [
    "# "
   ]
  },
  {
   "cell_type": "markdown",
   "metadata": {},
   "source": [
    "# Connection tests - Reddit API\n",
    "This Jupyter Notebook was created to test connection to the Reddit API through app credentials obtained by following the steps in process.md. \n",
    "\n",
    "It also tests basic functionality for things like: \n",
    "- x\n",
    "- y\n",
    "- z"
   ]
  },
  {
   "cell_type": "markdown",
   "metadata": {},
   "source": [
    "**Imports**"
   ]
  },
  {
   "cell_type": "code",
   "execution_count": 1,
   "metadata": {},
   "outputs": [],
   "source": [
    "import nltk\n",
    "from nltk.sentiment.vader import SentimentIntensityAnalyzer as SIA\n",
    "import praw\n",
    "import matplotlib.pyplot as plt\n",
    "import math\n",
    "import datetime as dt\n",
    "import pandas as pd\n",
    "import numpy as np"
   ]
  },
  {
   "cell_type": "markdown",
   "metadata": {},
   "source": [
    "**API Access**"
   ]
  },
  {
   "cell_type": "code",
   "execution_count": 2,
   "metadata": {},
   "outputs": [
    {
     "name": "stdout",
     "output_type": "stream",
     "text": [
      "y0ttZBHTC40eVB_N34lUag\n"
     ]
    }
   ],
   "source": [
    "CLIENT_ID = \"\"\n",
    "CLIENT_SECRET = \"\"\n",
    "USER_AGENT = \"\"\n",
    "\n",
    "# Load in passwords from hidden dev_settings.py file\n",
    "try: \n",
    "    from dev_settings import * \n",
    "except ImportError: \n",
    "    print(\"Error: Password file could not be found.\")\n",
    "\n",
    "reddit = praw.Reddit(client_id=CLIENT_ID, \n",
    "                     client_secret = CLIENT_SECRET, \n",
    "                     user_agent = USER_AGENT)"
   ]
  },
  {
   "cell_type": "markdown",
   "metadata": {},
   "source": []
  }
 ],
 "metadata": {
  "kernelspec": {
   "display_name": "Python 3",
   "language": "python",
   "name": "python3"
  },
  "language_info": {
   "codemirror_mode": {
    "name": "ipython",
    "version": 3
   },
   "file_extension": ".py",
   "mimetype": "text/x-python",
   "name": "python",
   "nbconvert_exporter": "python",
   "pygments_lexer": "ipython3",
   "version": "3.10.11"
  }
 },
 "nbformat": 4,
 "nbformat_minor": 2
}
