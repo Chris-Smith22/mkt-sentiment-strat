{
 "cells": [
  {
   "cell_type": "markdown",
   "metadata": {},
   "source": [
    "# "
   ]
  },
  {
   "cell_type": "markdown",
   "metadata": {},
   "source": [
    "# Connection tests - Reddit API\n",
    "This Jupyter Notebook was created to test connection to the Reddit API through app credentials obtained by following the steps in process.md. \n",
    "\n",
    "It also tests basic functionality for things like: \n",
    "- x\n",
    "- y\n",
    "- z"
   ]
  },
  {
   "cell_type": "markdown",
   "metadata": {},
   "source": [
    "**Imports**"
   ]
  },
  {
   "cell_type": "code",
   "execution_count": 1,
   "metadata": {},
   "outputs": [],
   "source": [
    "import nltk\n",
    "from nltk.sentiment.vader import SentimentIntensityAnalyzer as SIA\n",
    "import praw\n",
    "import matplotlib.pyplot as plt\n",
    "import math\n",
    "import datetime as dt\n",
    "import pandas as pd\n",
    "import numpy as np"
   ]
  },
  {
   "cell_type": "markdown",
   "metadata": {},
   "source": [
    "**API Access**"
   ]
  },
  {
   "cell_type": "code",
   "execution_count": 3,
   "metadata": {},
   "outputs": [
    {
     "name": "stdout",
     "output_type": "stream",
     "text": [
      "True\n"
     ]
    }
   ],
   "source": [
    "CLIENT_ID = \"\"\n",
    "CLIENT_SECRET = \"\"\n",
    "USER_AGENT = \"\"\n",
    "\n",
    "# Load in passwords from hidden dev_settings.py file\n",
    "try: \n",
    "    from dev_settings import * \n",
    "except ImportError: \n",
    "    print(\"Error: Password file could not be found.\")\n",
    "\n",
    "# Init read-only Reddit instance\n",
    "reddit = praw.Reddit(client_id=CLIENT_ID, \n",
    "                     client_secret = CLIENT_SECRET, \n",
    "                     user_agent = USER_AGENT)\n",
    "\n",
    "print(reddit.read_only)"
   ]
  },
  {
   "cell_type": "markdown",
   "metadata": {},
   "source": [
    "**Ex: Basic Functionality**\n",
    "Here, we will obtain basic data and 5 \"hot\" submissions from r/wallstreetbets. "
   ]
  },
  {
   "cell_type": "code",
   "execution_count": 4,
   "metadata": {},
   "outputs": [
    {
     "name": "stdout",
     "output_type": "stream",
     "text": [
      "What Are Your Moves Tomorrow, April 4, 2024\n",
      "Most Anticipated Earnings Releases for the week beginning April 1st, 2024\n",
      "Official TSM statement on earthquake\n",
      "10K -> $126K Gain 🚀🚀🚀\n",
      "Cannabis - not too late to get high bros\n"
     ]
    }
   ],
   "source": [
    "wsb = reddit.subreddit(\"wallstreetbets\")\n",
    "\n",
    "print(\"Subreddit name:\", wsb.display_name)\n",
    "print(\"Subreddit title:\", wsb.title)\n",
    "print(\"Subreddit description:\", wsb.description)\n",
    "print(\"Hot posts: \")\n",
    "\n",
    "for submission in wsb.hot(limit=5): \n",
    "    print(submission.title)"
   ]
  },
  {
   "cell_type": "markdown",
   "metadata": {},
   "source": [
    "*Note: Using a read-only reddit instance only lets us access public information from Reddit. However, this should be all we need for this particular project*"
   ]
  },
  {
   "cell_type": "markdown",
   "metadata": {},
   "source": []
  }
 ],
 "metadata": {
  "kernelspec": {
   "display_name": "Python 3",
   "language": "python",
   "name": "python3"
  },
  "language_info": {
   "codemirror_mode": {
    "name": "ipython",
    "version": 3
   },
   "file_extension": ".py",
   "mimetype": "text/x-python",
   "name": "python",
   "nbconvert_exporter": "python",
   "pygments_lexer": "ipython3",
   "version": "3.10.11"
  }
 },
 "nbformat": 4,
 "nbformat_minor": 2
}
