{
 "cells": [
  {
   "cell_type": "markdown",
   "metadata": {},
   "source": [
    "# Template Scraper Code\n",
    "This is a program snippet taken from a [sample post scraper](https://github.com/tstewart161/Reddit_Sentiment_Trader). Setup follows the same steps as for connection_test. "
   ]
  },
  {
   "cell_type": "markdown",
   "metadata": {},
   "source": [
    "**Imports and downloads**"
   ]
  },
  {
   "cell_type": "code",
   "execution_count": 2,
   "metadata": {},
   "outputs": [
    {
     "name": "stderr",
     "output_type": "stream",
     "text": [
      "[nltk_data] Error loading vader_lexicon: <urlopen error [SSL:\n",
      "[nltk_data]     CERTIFICATE_VERIFY_FAILED] certificate verify failed:\n",
      "[nltk_data]     unable to get local issuer certificate (_ssl.c:997)>\n",
      "[nltk_data] Error loading stopwords: <urlopen error [SSL:\n",
      "[nltk_data]     CERTIFICATE_VERIFY_FAILED] certificate verify failed:\n",
      "[nltk_data]     unable to get local issuer certificate (_ssl.c:997)>\n"
     ]
    },
    {
     "data": {
      "text/plain": [
       "False"
      ]
     },
     "execution_count": 2,
     "metadata": {},
     "output_type": "execute_result"
    }
   ],
   "source": [
    "import nltk\n",
    "from nltk.sentiment.vader import SentimentIntensityAnalyzer as SIA\n",
    "import praw\n",
    "import matplotlib.pyplot as plt\n",
    "import math\n",
    "import datetime as dt\n",
    "import pandas as pd\n",
    "import numpy as np\n",
    "\n",
    "\n",
    "# (Note: Justify the use of these)\n",
    "nltk.download('vader_lexicon')\n",
    "nltk.download('stopwords')"
   ]
  },
  {
   "cell_type": "markdown",
   "metadata": {},
   "source": [
    "**API Init**"
   ]
  },
  {
   "cell_type": "code",
   "execution_count": 3,
   "metadata": {},
   "outputs": [
    {
     "name": "stdout",
     "output_type": "stream",
     "text": [
      "True\n"
     ]
    }
   ],
   "source": [
    "CLIENT_ID = \"\"\n",
    "CLIENT_SECRET = \"\"\n",
    "USER_AGENT = \"\"\n",
    "\n",
    "# Load in passwords from hidden dev_settings.py file\n",
    "try: \n",
    "    from dev_settings import * \n",
    "except ImportError: \n",
    "    print(\"Error: Password file could not be found.\")\n",
    "\n",
    "# Init read-only Reddit instance\n",
    "reddit = praw.Reddit(client_id=CLIENT_ID, \n",
    "                     client_secret = CLIENT_SECRET, \n",
    "                     user_agent = USER_AGENT)\n",
    "\n",
    "print(reddit.read_only)"
   ]
  },
  {
   "cell_type": "markdown",
   "metadata": {},
   "source": [
    "**Setting subreddit and stock parameters**"
   ]
  },
  {
   "cell_type": "code",
   "execution_count": 4,
   "metadata": {},
   "outputs": [],
   "source": [
    "sub_reddits = reddit.subreddit('wallstreetbets')\n",
    "stocks = [\"GME\", \"AMC\"] "
   ]
  },
  {
   "cell_type": "markdown",
   "metadata": {},
   "source": [
    "**Sentiment Analysis Functions**"
   ]
  },
  {
   "cell_type": "code",
   "execution_count": 5,
   "metadata": {},
   "outputs": [],
   "source": [
    "def commentSentiment(ticker, urlT):\n",
    "    subComments = []\n",
    "    bodyComment = []\n",
    "    try:\n",
    "        check = reddit.submission(url=urlT)\n",
    "        subComments = check.comments\n",
    "    except:\n",
    "        return 0\n",
    "    \n",
    "    for comment in subComments:\n",
    "        try: \n",
    "            bodyComment.append(comment.body)\n",
    "        except:\n",
    "            return 0\n",
    "    \n",
    "    sia = SIA()\n",
    "    results = []\n",
    "    for line in bodyComment:\n",
    "        scores = sia.polarity_scores(line)\n",
    "        scores['headline'] = line\n",
    "\n",
    "        results.append(scores)\n",
    "    \n",
    "    df =pd.DataFrame.from_records(results)\n",
    "    df.head()\n",
    "    df['label'] = 0\n",
    "    \n",
    "    try:\n",
    "        df.loc[df['compound'] > 0.1, 'label'] = 1\n",
    "        df.loc[df['compound'] < -0.1, 'label'] = -1\n",
    "    except:\n",
    "        return 0\n",
    "    \n",
    "    averageScore = 0\n",
    "    position = 0\n",
    "    while position < len(df.label)-1:\n",
    "        averageScore = averageScore + df.label[position]\n",
    "        position += 1\n",
    "    averageScore = averageScore/len(df.label) \n",
    "    \n",
    "    return(averageScore)\n",
    "\n",
    "def latestComment(ticker, urlT):\n",
    "    subComments = []\n",
    "    updateDates = []\n",
    "    try:\n",
    "        check = reddit.submission(url=urlT)\n",
    "        subComments = check.comments\n",
    "    except:\n",
    "        return 0\n",
    "    \n",
    "    for comment in subComments:\n",
    "        try: \n",
    "            updateDates.append(comment.created_utc)\n",
    "        except:\n",
    "            return 0\n",
    "    \n",
    "    updateDates.sort()\n",
    "    return(updateDates[-1])\n",
    "\n",
    "\n",
    "def get_date(date):\n",
    "    return dt.datetime.fromtimestamp(date)"
   ]
  },
  {
   "cell_type": "code",
   "execution_count": 1,
   "metadata": {},
   "outputs": [
    {
     "ename": "NameError",
     "evalue": "name 'stocks' is not defined",
     "output_type": "error",
     "traceback": [
      "\u001b[0;31m---------------------------------------------------------------------------\u001b[0m",
      "\u001b[0;31mNameError\u001b[0m                                 Traceback (most recent call last)",
      "Cell \u001b[0;32mIn[1], line 4\u001b[0m\n\u001b[1;32m      2\u001b[0m submission_statistics \u001b[38;5;241m=\u001b[39m []\n\u001b[1;32m      3\u001b[0m d \u001b[38;5;241m=\u001b[39m {}\n\u001b[0;32m----> 4\u001b[0m \u001b[38;5;28;01mfor\u001b[39;00m ticker \u001b[38;5;129;01min\u001b[39;00m \u001b[43mstocks\u001b[49m:\n\u001b[1;32m      5\u001b[0m     \u001b[38;5;28;01mfor\u001b[39;00m submission \u001b[38;5;129;01min\u001b[39;00m reddit\u001b[38;5;241m.\u001b[39msubreddit(\u001b[38;5;124m'\u001b[39m\u001b[38;5;124mwallstreetbets\u001b[39m\u001b[38;5;124m'\u001b[39m)\u001b[38;5;241m.\u001b[39msearch(ticker, limit\u001b[38;5;241m=\u001b[39m\u001b[38;5;241m130\u001b[39m):\n\u001b[1;32m      6\u001b[0m         \u001b[38;5;28;01mif\u001b[39;00m submission\u001b[38;5;241m.\u001b[39mdomain \u001b[38;5;241m!=\u001b[39m \u001b[38;5;124m\"\u001b[39m\u001b[38;5;124mself.wallstreetbets\u001b[39m\u001b[38;5;124m\"\u001b[39m:\n",
      "\u001b[0;31mNameError\u001b[0m: name 'stocks' is not defined"
     ]
    }
   ],
   "source": [
    "# NOTE: Running this takes a lot of time. \n",
    "submission_statistics = []\n",
    "d = {}\n",
    "for ticker in stocks:\n",
    "    for submission in reddit.subreddit('wallstreetbets').search(ticker, limit=130):\n",
    "        if submission.domain != \"self.wallstreetbets\":\n",
    "            continue\n",
    "        d = {}\n",
    "        d['ticker'] = ticker\n",
    "        d['num_comments'] = submission.num_comments\n",
    "        d['comment_sentiment_average'] = commentSentiment(ticker, submission.url)\n",
    "        if d['comment_sentiment_average'] == 0.000000:\n",
    "            continue\n",
    "        d['latest_comment_date'] = latestComment(ticker, submission.url)\n",
    "        d['score'] = submission.score\n",
    "        d['upvote_ratio'] = submission.upvote_ratio\n",
    "        d['date'] = submission.created_utc\n",
    "        d['domain'] = submission.domain\n",
    "        d['num_crossposts'] = submission.num_crossposts\n",
    "        d['author'] = submission.author\n",
    "        submission_statistics.append(d)\n",
    "    \n",
    "dfSentimentStocks = pd.DataFrame(submission_statistics)\n",
    "\n",
    "_timestampcreated = dfSentimentStocks[\"date\"].apply(get_date)\n",
    "dfSentimentStocks = dfSentimentStocks.assign(timestamp = _timestampcreated)\n",
    "\n",
    "_timestampcomment = dfSentimentStocks[\"latest_comment_date\"].apply(get_date)\n",
    "dfSentimentStocks = dfSentimentStocks.assign(commentdate = _timestampcomment)\n",
    "\n",
    "dfSentimentStocks.sort_values(\"latest_comment_date\", axis = 0, ascending = True,inplace = True, na_position ='last') \n",
    "\n",
    "dfSentimentStocks"
   ]
  },
  {
   "cell_type": "code",
   "execution_count": null,
   "metadata": {},
   "outputs": [],
   "source": [
    "dfSentimentStocks.author.value_counts()"
   ]
  },
  {
   "cell_type": "code",
   "execution_count": null,
   "metadata": {},
   "outputs": [],
   "source": [
    "dfSentimentStocks.to_csv('Reddit_Sentiment_Equity.csv', index=False) "
   ]
  }
 ],
 "metadata": {
  "kernelspec": {
   "display_name": "Python 3",
   "language": "python",
   "name": "python3"
  },
  "language_info": {
   "codemirror_mode": {
    "name": "ipython",
    "version": 3
   },
   "file_extension": ".py",
   "mimetype": "text/x-python",
   "name": "python",
   "nbconvert_exporter": "python",
   "pygments_lexer": "ipython3",
   "version": "3.10.2"
  }
 },
 "nbformat": 4,
 "nbformat_minor": 2
}
